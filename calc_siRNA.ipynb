{
 "cells": [
  {
   "cell_type": "markdown",
   "metadata": {},
   "source": [
    "# Calculate siRNA for Gene Sequences\n",
    "\n",
    "This script takes gene sequences and calculates all possible siRNA interactions. An siRNA interaction site is defined as a 22-nt sequence of $$AWWWW-D--U------A-----$$ where $$D=[A,G,U],W=[A,U]$$ and - denotes a complement. \n",
    "\n",
    "\n",
    "The corresponding siRNA is defined as $$UWWWW-H--A------U-----$$ where $$H=[A,C,U]$$"
   ]
  },
  {
   "cell_type": "code",
   "execution_count": 1,
   "metadata": {},
   "outputs": [],
   "source": [
    "import pandas as pd"
   ]
  },
  {
   "cell_type": "code",
   "execution_count": 3,
   "metadata": {},
   "outputs": [],
   "source": [
    "def clean_data(filename):\n",
    "    # Read in the file\n",
    "    with open(filename+\".txt\", 'r') as file :\n",
    "        filedata = file.readlines()\n",
    "\n",
    "    outdata = \"\"\n",
    "    for i in filedata:\n",
    "        if '>' in i:\n",
    "            outdata+=\"\\n\"+i\n",
    "        else:\n",
    "            outdata+=i.strip()\n",
    "        \n",
    "    # Write the file out again\n",
    "    with open(filename+\".txt\", 'w') as file:\n",
    "        file.write(outdata)\n",
    "        \n",
    "    # Read in the file\n",
    "    with open(filename+\".txt\", 'r') as file :\n",
    "        filedata = file.read()\n",
    "\n",
    "    # Replace the target string\n",
    "    filedata = filedata.replace('Sequence unavailable', 'Sequence_unavailable')\n",
    "\n",
    "    # Write the file out again\n",
    "    with open(filename+\".txt\", 'w') as file:\n",
    "        file.write(filedata)\n",
    "        file.write(filedata)\n",
    "    "
   ]
  },
  {
   "cell_type": "code",
   "execution_count": 3,
   "metadata": {},
   "outputs": [],
   "source": [
    "clean_data(\"Data/mart_export\")"
   ]
  },
  {
   "cell_type": "code",
   "execution_count": 20,
   "metadata": {},
   "outputs": [],
   "source": [
    "def approximate_seq(aprx_level, seq):\n",
    "    #print(seq+\" = \"+str(seq.count('C')+seq.count('G')<=aprx_level))\n",
    "    return seq.count('C')+seq.count('G')<=aprx_level\n",
    "    "
   ]
  },
  {
   "cell_type": "code",
   "execution_count": 30,
   "metadata": {},
   "outputs": [],
   "source": [
    "\n",
    "def is_site(sequence, site_type):\n",
    "    aprx_level = 0\n",
    "    match site_type:\n",
    "        case \"perfect-match\":\n",
    "            aprx_level = 0\n",
    "        case \"approximate-match1\":\n",
    "            aprx_level = 1\n",
    "        case \"approximate-match2\":\n",
    "            aprx_level = 2\n",
    "        case \"approximate-match3\":\n",
    "            aprx_level = 3\n",
    "        case \"approximate-match4\":\n",
    "            aprx_level = 4\n",
    "        case _:\n",
    "            print(\"Error: site_type = None\")\n",
    "    #takes 22-nt sequence and returns if the sequence is an exact site (AWWWW)\n",
    "    if (sequence[0]=='A') and (approximate_seq(aprx_level,sequence[1:5])) and (sequence[6]=='A' or sequence[6]=='G' or sequence[6]=='T') and (sequence[9]=='T') and (sequence[16]=='A'):\n",
    "        return True\n",
    "    else:\n",
    "        return False\n",
    "    "
   ]
  },
  {
   "cell_type": "code",
   "execution_count": 31,
   "metadata": {},
   "outputs": [],
   "source": [
    "def generate_siRNA(site):\n",
    "    siRNA = \"\"\n",
    "    for char in site:\n",
    "        match char:\n",
    "            case 'A':\n",
    "                siRNA = siRNA + 'U'\n",
    "            case 'T':\n",
    "                siRNA = siRNA + 'A'\n",
    "            case 'G':\n",
    "                siRNA = siRNA + 'C'\n",
    "            case 'C':\n",
    "                siRNA = siRNA + 'G'\n",
    "            case 'U':\n",
    "                siRNA = siRNA + 'A'\n",
    "    return siRNA[::-1]"
   ]
  },
  {
   "cell_type": "code",
   "execution_count": 39,
   "metadata": {},
   "outputs": [],
   "source": [
    "def calc_siRNA(filename, aprx_level):\n",
    "    gene_ids = []\n",
    "    gene_sequences = []\n",
    "    # Read the data from the text file\n",
    "    with open(filename+'.txt', 'r') as file:\n",
    "        lines = file.readlines()\n",
    "        for i in range(0, len(lines), 2):  \n",
    "            gene_id = lines[i].strip()\n",
    "            sequence = lines[i+1].strip()  \n",
    "            if sequence != 'Sequence_unavailable':\n",
    "                gene_sequences.append(sequence)\n",
    "                gene_ids.append(gene_id)\n",
    "    # Create a DataFrame from the lists\n",
    "    df = pd.DataFrame({'Gene ID': gene_ids, 'Gene Sequence': gene_sequences, 'siRNA Interaction Sites':None, 'Possible siRNA':None})\n",
    "    #for each gene sequence, list siRNA sites\n",
    "    for ind in df.index:\n",
    "        sequence = df.loc[ind, \"Gene Sequence\"]\n",
    "        siRNA_sites = []\n",
    "        siRNAs = []\n",
    "        #populate siRNA_sites with possible sites\n",
    "        for i in range(0,len(sequence)-22):\n",
    "            site = sequence[i:i+22]\n",
    "            if(is_site(site, aprx_level)):\n",
    "                siRNA_sites.append(site)\n",
    "                siRNAs.append(generate_siRNA(site))\n",
    "        df.loc[ind, \"siRNA Interaction Sites\"] = siRNA_sites\n",
    "        df.loc[ind, \"Possible siRNA\"] = siRNAs\n",
    "    df.to_csv(\"Data/output_\"+aprx_level+\".csv\")\n",
    "    p = sum(df.loc[ind, \"siRNA Interaction Sites\"]==[] for ind in df.index)/len(df.index)\n",
    "    print(aprx_level +\" : \"+str(p))"
   ]
  },
  {
   "cell_type": "code",
   "execution_count": 44,
   "metadata": {},
   "outputs": [
    {
     "name": "stdout",
     "output_type": "stream",
     "text": [
      "approximate-match4 : 0.011864309163163047\n"
     ]
    }
   ],
   "source": [
    "calc_siRNA(\"Data/mart_export\", \"approximate-match4\")"
   ]
  }
 ],
 "metadata": {
  "kernelspec": {
   "display_name": "Python 3",
   "language": "python",
   "name": "python3"
  },
  "language_info": {
   "codemirror_mode": {
    "name": "ipython",
    "version": 3
   },
   "file_extension": ".py",
   "mimetype": "text/x-python",
   "name": "python",
   "nbconvert_exporter": "python",
   "pygments_lexer": "ipython3",
   "version": "3.10.5"
  }
 },
 "nbformat": 4,
 "nbformat_minor": 2
}
